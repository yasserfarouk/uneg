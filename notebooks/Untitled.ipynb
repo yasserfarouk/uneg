{
 "cells": [
  {
   "cell_type": "code",
   "execution_count": 3,
   "metadata": {},
   "outputs": [],
   "source": [
    "import pandas as pd\n",
    "import numpy as np\n",
    "import scipy"
   ]
  },
  {
   "cell_type": "code",
   "execution_count": null,
   "metadata": {},
   "outputs": [],
   "source": [
    "n_outcomes = \n",
    "data = [\n",
    "0, 1, 1 # w0 > w1\n",
    "0, 2, 0 # w0 = = 2 \n",
    "0, 3, -1 # w0 < w3\n",
    "]"
   ]
  }
 ],
 "metadata": {
  "kernelspec": {
   "display_name": "Python 3",
   "language": "python",
   "name": "python3"
  }
 },
 "nbformat": 4,
 "nbformat_minor": 2
}
